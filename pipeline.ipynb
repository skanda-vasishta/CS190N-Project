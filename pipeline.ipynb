{
 "cells": [
  {
   "cell_type": "code",
   "execution_count": 1,
   "id": "a2cfe95b",
   "metadata": {},
   "outputs": [
    {
     "data": {
      "text/html": [
       "<style>.container { width:100% !important; }</style>"
      ],
      "text/plain": [
       "<IPython.core.display.HTML object>"
      ]
     },
     "metadata": {},
     "output_type": "display_data"
    }
   ],
   "source": [
    "from IPython.display import display, HTML\n",
    "display(HTML(\"<style>.container { width:100% !important; }</style>\"))"
   ]
  },
  {
   "cell_type": "code",
   "execution_count": 2,
   "id": "df59b891",
   "metadata": {},
   "outputs": [],
   "source": [
    "import os\n",
    "import time\n",
    "import pandas as pd\n",
    "\n",
    "from netunicorn.base import Pipeline, Task, Success, Failure\n",
    "from netunicorn.client.remote import RemoteClient, RemoteClientException\n",
    "from netunicorn.base import Experiment, ExperimentStatus, Pipeline\n",
    "from netunicorn.library.tasks.capture.tcpdump import StartCapture, StopNamedCapture\n",
    "from netunicorn.library.tasks.upload.fileio import UploadToFileIO\n",
    "from netunicorn.library.tasks.upload.webdav import UploadToWebDav\n",
    "from netunicorn.library.tasks.basic import SleepTask\n",
    "from netunicorn.library.tasks.measurements.ookla_speedtest import SpeedTest\n",
    "from netunicorn.library.tasks.video_watchers.youtube_watcher import WatchYouTubeVideo\n",
    "from netunicorn.library.tasks.video_watchers.vimeo_watcher import WatchVimeoVideo\n",
    "from netunicorn.library.tasks.video_watchers.twitch_watcher import WatchTwitchStream"
   ]
  },
  {
   "cell_type": "code",
   "execution_count": 3,
   "id": "68370618",
   "metadata": {},
   "outputs": [],
   "source": [
    "netunicorn_login = 'cs190n12'\n",
    "netunicorn_password = 'drheuiW4'\n",
    "NETUNICORN_ENDPOINT = os.environ.get('NETUNICORN_ENDPOINT', 'https://pinot.cs.ucsb.edu/netunicorn')\n",
    "NETUNICORN_LOGIN = os.environ.get('NETUNICORN_LOGIN', netunicorn_login)\n",
    "NETUNICORN_PASSWORD = os.environ.get('NETUNICORN_PASSWORD', netunicorn_password)\n"
   ]
  },
  {
   "cell_type": "code",
   "execution_count": 4,
   "id": "7c4ac088",
   "metadata": {},
   "outputs": [
    {
     "name": "stdout",
     "output_type": "stream",
     "text": [
      "Health Check: True\n",
      "[[snl-server-5], <Uncountable node pool with next node template: [aws-fargate-A-cs190n12-, aws-fargate-B-cs190n12-, aws-fargate-ARM64-cs190n12-]>]\n"
     ]
    }
   ],
   "source": [
    "client = RemoteClient(endpoint=NETUNICORN_ENDPOINT, login=NETUNICORN_LOGIN, password=NETUNICORN_PASSWORD)\n",
    "print(\"Health Check: {}\".format(client.healthcheck()))\n",
    "nodes = client.get_nodes()\n",
    "print(nodes)"
   ]
  },
  {
   "cell_type": "markdown",
   "id": "4b293f21",
   "metadata": {},
   "source": [
    "#1- raspi-e4:5f:01:8d:f5:95  \n",
    "#2- raspi-e4:5f:01:78:6f:2e   \n",
    "#3- raspi-e4:5f:01:a0:32:5f   \n",
    "#4- raspi-e4:5f:01:a7:b1:e5   \n",
    "#5- raspi-e4:5f:01:84:7f:76   \n",
    "#6- raspi-e4:5f:01:ad:c9:3f   \n",
    "#7- raspi-e4:5f:01:9c:25:7d   \n",
    "#8- raspi-e4:5f:01:56:d8:f3   \n",
    "#9- raspi-e4:5f:01:ac:ed:5b   \n",
    "#10- raspi-e4:5f:01:ad:c9:04   "
   ]
  },
  {
   "cell_type": "code",
   "execution_count": 5,
   "id": "cc7e8653",
   "metadata": {},
   "outputs": [],
   "source": [
    "working_node = 'snl-server-5'"
   ]
  },
  {
   "cell_type": "markdown",
   "id": "a0acb1bf",
   "metadata": {},
   "source": [
    "### Instructions for Uploading PCAPS to lab server\n",
    "Use the `UploadToWebDav` task from `netunicorn.library.tasks.upload.webdav`  \n",
    "    - filepaths is a Set of filenames to upload to the endpoint  \n",
    "    - endpoint is where we will upload the files  \n",
    "        - http://snl-server-5.cs.ucsb.edu/cs190n/<netunicorn_login\\>/<any path you want\\>  \n",
    "        - Corresponding file will be at snl-server-5.cs.ucsb.edu:/mnt/md0/cs190n/<netunicorn_login\\>/<path you specified\\>/<container_id\\>/<filepath\\>  \n",
    "    - username/password: `uploader`/`uploader`  "
   ]
  },
  {
   "cell_type": "code",
   "execution_count": 6,
   "id": "a7f80c57",
   "metadata": {},
   "outputs": [
    {
     "data": {
      "text/plain": [
       "Pipeline(bb0bdc3f-a0c0-4998-9927-aa4b201f64c2): {'root': [<netunicorn.library.tasks.capture.tcpdump.StartCapture object at 0x7f2861246ec0>], 1: [<netunicorn.library.tasks.video_watchers.youtube_watcher.WatchYouTubeVideo object at 0x7f2861245c00>], 2: [<netunicorn.library.tasks.video_watchers.youtube_watcher.WatchYouTubeVideo object at 0x7f2861246f20>], 3: [<netunicorn.library.tasks.capture.tcpdump.StopNamedCapture object at 0x7f2861246f50>], 4: [<netunicorn.library.tasks.basic.SleepTask with name 3ee3ddc6-3af2-4ba7-bc43-ea75ec92bd66>], 5: [<netunicorn.library.tasks.upload.webdav.UploadToWebDav object at 0x7f2861245d50>]}"
      ]
     },
     "execution_count": 6,
     "metadata": {},
     "output_type": "execute_result"
    }
   ],
   "source": [
    "pipeline = Pipeline()\n",
    "\n",
    "# Flag to enable early stopping -- so if any task fails pipeline would go on working\n",
    "# pipeline.early_stopping = False\n",
    "\n",
    "# Generate data for Vimeo\n",
    "# Generate data for Twitch\n",
    "\n",
    "pipeline.then(StartCapture(filepath=\"/tmp/skanda_youtube_capture_test_4.pcap\", name=\"skanda_youtube_capture_test_4\"))\n",
    "for _ in range(2):\n",
    "    pipeline.then(WatchYouTubeVideo(\"https://www.youtube.com/watch?v=GdXeRfgvywU\", 20))\n",
    "pipeline.then(StopNamedCapture(start_capture_task_name=\"skanda_youtube_capture_test_4\"))\n",
    "\n",
    "pipeline.then(SleepTask(2))\n",
    "\n",
    "# Upload Data\n",
    "pipeline.then(UploadToWebDav(filepaths={\"/tmp/skanda_youtube_capture_test_4.pcap\"}, endpoint=\"http://snl-server-5.cs.ucsb.edu/cs190n/test-cs190n12/\", username=\"uploader\", password=\"uploader\"))"
   ]
  },
  {
   "cell_type": "code",
   "execution_count": 7,
   "id": "ac479cfb",
   "metadata": {},
   "outputs": [
    {
     "name": "stdout",
     "output_type": "stream",
     "text": [
      " - Deployment: Node=snl-server-5, executor_id=, prepared=False, error=None\n"
     ]
    }
   ],
   "source": [
    "working_nodes = nodes.filter(lambda node: node.name.startswith(working_node)).take(1)\n",
    "\n",
    "# Creating the experiment\n",
    "experiment = Experiment().map(pipeline, working_nodes)\n",
    "print(experiment)"
   ]
  },
  {
   "cell_type": "markdown",
   "id": "19ed4ddc",
   "metadata": {},
   "source": [
    "### Installing Libraries vs Docker Image"
   ]
  },
  {
   "cell_type": "code",
   "execution_count": 8,
   "id": "b5ab0e66",
   "metadata": {},
   "outputs": [
    {
     "name": "stdout",
     "output_type": "stream",
     "text": [
      "sudo apt-get update\n",
      "sudo apt-get install -y tcpdump\n",
      "apt install -y python3-pip wget xvfb procps chromium chromium-driver\n",
      "pip3 install selenium webdriver-manager\n",
      "apt install -y python3-pip wget xvfb procps chromium chromium-driver\n",
      "pip3 install selenium webdriver-manager\n",
      "sudo apt-get update\n",
      "sudo apt-get install -y tcpdump\n",
      "sudo apt-get install -y procps\n",
      "sudo apt-get install -y curl\n"
     ]
    }
   ],
   "source": [
    "for line in experiment[0].environment_definition.commands:\n",
    "    print(line)"
   ]
  },
  {
   "cell_type": "markdown",
   "id": "e3ee1234",
   "metadata": {},
   "source": [
    "We can also use a predefined Docker image which will avoid installing any libraries."
   ]
  },
  {
   "cell_type": "code",
   "execution_count": 9,
   "id": "280e4719",
   "metadata": {},
   "outputs": [],
   "source": [
    "from netunicorn.base import DockerImage\n",
    "for deployment in experiment:\n",
    "    # you can explore the image on the DockerHub\n",
    "    deployment.environment_definition = DockerImage(image='satyandraguthula/netunicorn_images')"
   ]
  },
  {
   "cell_type": "code",
   "execution_count": 10,
   "id": "cc80ba81",
   "metadata": {},
   "outputs": [],
   "source": [
    "experiment_label = \"da1aco113c1i0ns\""
   ]
  },
  {
   "cell_type": "markdown",
   "id": "cf9f6714",
   "metadata": {},
   "source": [
    "Now we can prepare the experiment, check for any errors and execute."
   ]
  },
  {
   "cell_type": "code",
   "execution_count": 11,
   "id": "bcc555c6",
   "metadata": {},
   "outputs": [
    {
     "name": "stdout",
     "output_type": "stream",
     "text": [
      "ExperimentStatus.PREPARING\n",
      "ExperimentStatus.PREPARING\n",
      "ExperimentStatus.READY\n"
     ]
    }
   ],
   "source": [
    "try:\n",
    "    client.delete_experiment(experiment_label)\n",
    "except RemoteClientException:\n",
    "    pass\n",
    "\n",
    "client.prepare_experiment(experiment, experiment_label)\n",
    "\n",
    "while True:\n",
    "    info = client.get_experiment_status(experiment_label)\n",
    "    print(info.status)\n",
    "    if info.status == ExperimentStatus.READY:\n",
    "        break\n",
    "    time.sleep(20)"
   ]
  },
  {
   "cell_type": "code",
   "execution_count": 12,
   "id": "26e3d28f",
   "metadata": {},
   "outputs": [
    {
     "name": "stdout",
     "output_type": "stream",
     "text": [
      "Prepared: True, error: None\n"
     ]
    }
   ],
   "source": [
    "for deployment in client.get_experiment_status(experiment_label).experiment:\n",
    "    print(f\"Prepared: {deployment.prepared}, error: {deployment.error}\")"
   ]
  },
  {
   "cell_type": "code",
   "execution_count": 13,
   "id": "d47880aa",
   "metadata": {},
   "outputs": [
    {
     "name": "stdout",
     "output_type": "stream",
     "text": [
      "ExperimentStatus.RUNNING\n",
      "ExperimentStatus.RUNNING\n",
      "ExperimentStatus.RUNNING\n",
      "ExperimentStatus.RUNNING\n",
      "ExperimentStatus.FINISHED\n"
     ]
    }
   ],
   "source": [
    "client.start_execution(experiment_label)\n",
    "\n",
    "while True:\n",
    "    info = client.get_experiment_status(experiment_label)\n",
    "    print(info.status)\n",
    "    if info.status != ExperimentStatus.RUNNING:\n",
    "        break\n",
    "    time.sleep(20)"
   ]
  },
  {
   "cell_type": "code",
   "execution_count": 14,
   "id": "6f32d568",
   "metadata": {},
   "outputs": [
    {
     "name": "stdout",
     "output_type": "stream",
     "text": [
      "Node name: snl-server-5\n",
      "Error: None\n",
      "Result is: <class 'returns.result.Success'>\n",
      "skanda_youtube_capture_test_4: [<Success: 8>]\n",
      "7db5431d-80db-420d-8219-c48f082cba75: [<Success: Video finished by timeout: 20 seconds>]\n",
      "5eef53a5-8683-48f4-81e9-675379903cf3: [<Success: Video finished by timeout: 20 seconds>]\n",
      "7d6cccef-2063-4658-aca1-2e951b37dd69: [<Success: >]\n",
      "3ee3ddc6-3af2-4ba7-bc43-ea75ec92bd66: [<Success: 2>]\n",
      "8193a100-a3cc-4272-9591-f2061fbc2c15: [<Success: [<Success:   % Total    % Received % Xferd  Average Speed   Time    Time     Time  Current\n",
      "                                 Dload  Upload   Total   Spent    Left  Speed\n",
      "100  170M    0     0  100  170M      0   274M --:--:-- --:--:-- --:--:--  274M\n",
      ">]>]\n",
      "Parsed configuration: Gateway located on https://pinot.cs.ucsb.edu/netunicorn/gateway\n",
      "Current directory: /\n",
      "Successfully received the execution graph.\n",
      "Execution is finished, start reporting results.\n",
      "\n"
     ]
    }
   ],
   "source": [
    "from returns.pipeline import is_successful\n",
    "\n",
    "for report in info.execution_result:\n",
    "    print(f\"Node name: {report.node.name}\")\n",
    "    print(f\"Error: {report.error}\")\n",
    "\n",
    "    result, log = report.result  # report stores results of execution and corresponding log\n",
    "    \n",
    "    # result is a returns.result.Result object, could be Success of Failure\n",
    "    print(f\"Result is: {type(result)}\")\n",
    "    data = result.unwrap() if is_successful(result) else result.failure()\n",
    "    for key, value in data.items():\n",
    "        print(f\"{key}: {value}\")\n",
    "\n",
    "    # we also can explore logs\n",
    "    for line in log:\n",
    "        print(line.strip())\n",
    "    print()"
   ]
  }
 ],
 "metadata": {
  "kernelspec": {
   "display_name": "Python 3 (ipykernel)",
   "language": "python",
   "name": "python3"
  },
  "language_info": {
   "codemirror_mode": {
    "name": "ipython",
    "version": 3
   },
   "file_extension": ".py",
   "mimetype": "text/x-python",
   "name": "python",
   "nbconvert_exporter": "python",
   "pygments_lexer": "ipython3",
   "version": "3.10.12"
  }
 },
 "nbformat": 4,
 "nbformat_minor": 5
}
